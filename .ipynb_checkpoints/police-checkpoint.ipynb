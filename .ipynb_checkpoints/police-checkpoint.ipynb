import pandas as pd
import numpy as np
from sklearn.model_selection import train_test_split
from sklearn.ensemble import RandomForestRegressor
from sklearn.metrics import mean_absolute_error

# 🔹 1. 데이터 불러오기
train_data = pd.read_excel("경찰점수예측.xlsx")
test_data = pd.read_excel("경찰테스트데이터.xlsx")

# 🔹 2. 데이터 전처리
# 필요 없는 컬럼 제거 (예: 연도, 차수는 피처로만 사용)
X = train_data.drop(columns=["합격점수"])
y = train_data["합격점수"]

# 범주형 변수(지역) 원-핫 인코딩
X = pd.get_dummies(X, columns=["지역"], drop_first=True)
test_data = pd.get_dummies(test_data, columns=["지역"], drop_first=True)

# 테스트 데이터에서 누락된 컬럼이 있다면 맞춰줌
missing_cols = set(X.columns) - set(test_data.columns)
for col in missing_cols:
    test_data[col] = 0

# 컬럼 순서 맞추기
test_data = test_data[X.columns]

# 🔹 3. 모델 학습
X_train, X_valid, y_train, y_valid = train_test_split(X, y, test_size=0.2, random_state=42)
model = RandomForestRegressor(n_estimators=100, random_state=42)
model.fit(X_train, y_train)

# 🔹 4. 모델 평가
y_pred = model.predict(X_valid)
mae = mean_absolute_error(y_valid, y_pred)
print(f"모델 MAE (평균 절대 오차): {mae:.2f}")

# 🔹 5. 예측 및 저장
test_data["합격예측점수"] = model.predict(test_data)
test_data.to_excel("경찰테스트_결과.xlsx", index=False)
print("✅ 예측 완료! '경찰테스트_결과.xlsx'에 저장되었습니다.")
